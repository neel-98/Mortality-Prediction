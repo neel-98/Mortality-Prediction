{
 "cells": [
  {
   "cell_type": "markdown",
   "metadata": {},
   "source": [
    "### Import required libraries"
   ]
  },
  {
   "cell_type": "code",
   "execution_count": 1,
   "metadata": {},
   "outputs": [],
   "source": [
    "from warnings import simplefilter\n",
    "# ignore all future warnings\n",
    "import warnings\n",
    "warnings.filterwarnings(\"ignore\")\n",
    "simplefilter(action='ignore', category=FutureWarning)\n",
    "import itertools\n",
    "import numpy as np\n",
    "import pandas as pd\n",
    "import statsmodels.api as sm\n",
    "import matplotlib.pyplot as plt\n",
    "#from sklearn.datasets import make_classification\n",
    "from sklearn.preprocessing import LabelEncoder\n",
    "from sklearn.preprocessing import StandardScaler\n",
    "from sklearn.model_selection import train_test_split\n",
    "from sklearn.calibration import calibration_curve\n",
    "from sklearn import metrics\n",
    "from sklearn.linear_model import LogisticRegression\n",
    "from sklearn.ensemble import RandomForestClassifier\n",
    "from sklearn.svm import SVC, LinearSVC\n",
    "\n",
    "from sklearn.feature_selection import RFECV, RFE\n",
    "from sklearn.impute import SimpleImputer\n",
    "from sklearn.metrics import confusion_matrix, classification_report,roc_auc_score\n",
    "from sklearn.metrics import accuracy_score, precision_score, recall_score, f1_score \n",
    "from sklearn.metrics import roc_curve, precision_recall_curve, auc, make_scorer\n",
    "# import warnings filter\n",
    "\n",
    "from statistics import median \n",
    "import seaborn as sns\n",
    "import configparser\n",
    "import os\n",
    "\n",
    "%matplotlib inline"
   ]
  },
  {
   "cell_type": "markdown",
   "metadata": {},
   "source": [
    "### Define file name of configuration and import it"
   ]
  },
  {
   "cell_type": "code",
   "execution_count": 2,
   "metadata": {},
   "outputs": [],
   "source": [
    "config_fn = 'config.ini'\n",
    "\n",
    "def parse_list(config_str):\n",
    "    list_in_param = [x.strip() for x in config_str.split(',')]\n",
    "    return list_in_param\n",
    "\n",
    "def parse_dict(config_str):\n",
    "    removed_nl = config_str.replace('\\n', '')\n",
    "    return eval(removed_nl)\n",
    "\n",
    "config = configparser.ConfigParser()\n",
    "config.read(config_fn)\n",
    "config_IO = config['FileIO']\n",
    "\n",
    "file_path = config['FileIO']['file_path']\n",
    "data_path = file_path + config['FileIO']['data_path']\n",
    "plot_path = file_path + config['FileIO']['plot_path']\n",
    "result_path = file_path + config['FileIO']['result_path']\n",
    "\n",
    "out_paths = [plot_path, result_path]\n",
    "# Create the paths if they don't already exist\n",
    "for out_path in out_paths:\n",
    "    if not os.path.exists(out_path):\n",
    "        print('Created path: ', out_path)\n",
    "        os.mkdir(out_path)"
   ]
  },
  {
   "cell_type": "markdown",
   "metadata": {},
   "source": [
    "<a id='preprocessing'></a>\n",
    "# Data acquisition and pre-processing"
   ]
  },
  {
   "cell_type": "code",
   "execution_count": 3,
   "metadata": {},
   "outputs": [
    {
     "name": "stdout",
     "output_type": "stream",
     "text": [
      "Shape of raw data: (566602, 23)\n"
     ]
    }
   ],
   "source": [
    "# read data file\n",
    "raw_data_df = pd.read_csv(data_path+config_IO['raw_filename'])\n",
    "print('Shape of raw data:', raw_data_df.shape)"
   ]
  },
  {
   "cell_type": "markdown",
   "metadata": {},
   "source": [
    "### Exclude irrelevant features from the data"
   ]
  },
  {
   "cell_type": "code",
   "execution_count": 4,
   "metadata": {},
   "outputs": [],
   "source": [
    "# columns_to_drop = parse_list(config['Pre-processing']['columns_to_drop'])\n",
    "# raw_data_df.drop(columns_to_drop, axis = 1, inplace = True)"
   ]
  },
  {
   "cell_type": "markdown",
   "metadata": {},
   "source": [
    "### Remove duplicate entries of same patient from the data"
   ]
  },
  {
   "cell_type": "code",
   "execution_count": 5,
   "metadata": {},
   "outputs": [],
   "source": [
    "patient_id_col = config['Pre-processing']['patient_id_column']\n",
    "raw_data_df.drop_duplicates([patient_id_col],keep='first',inplace = True)\n",
    "raw_data_df.drop([patient_id_col], axis=1, inplace=True)"
   ]
  },
  {
   "cell_type": "markdown",
   "metadata": {},
   "source": [
    "### Keep patients who satisfy the conditions defined in the configuration file\n",
    "In our original article, we only analyzed patients that were confirmed to be positive for COVID-19 based on a PCR test. Similar conditions can be specified for other patient data as well."
   ]
  },
  {
   "cell_type": "code",
   "execution_count": 6,
   "metadata": {},
   "outputs": [],
   "source": [
    "filter_column = config['Pre-processing']['keep_only_matched_patient_column']\n",
    "filter_value = config['Pre-processing']['keep_only_matched_patient_value']\n",
    "\n",
    "if filter_column != '':\n",
    "    if filter_column in raw_data_df.columns:\n",
    "        raw_data_df = raw_data_df[raw_data_df[filter_column] == filter_value]\n",
    "    else:\n",
    "        print(filter_column, \" is not one of the columns of raw data file\")"
   ]
  },
  {
   "cell_type": "code",
   "execution_count": 7,
   "metadata": {},
   "outputs": [],
   "source": [
    "raw_data_df_copy = raw_data_df.copy()\n",
    "\n",
    "# preprocessing\n",
    "from datetime import datetime\n",
    "# make new column of number of days after patient died\n",
    "def calculateDays(start_date_str, end_date_str):\n",
    "    start_date_obj = datetime.strptime(start_date_str, '%d-%m-%Y')\n",
    "    end_date_obj = datetime.strptime(end_date_str, '%d-%m-%Y')\n",
    "    days = end_date_obj - start_date_obj\n",
    "    return days.days\n",
    "\n",
    "\n",
    "#converting to female : 0, male : 1\n",
    "raw_data_df_copy['sex'] = raw_data_df['sex'].apply(lambda x : x-1)\n",
    "raw_data_df_copy['death'] = raw_data_df_copy['date_died'].apply(lambda x : 0 if x == '9999-99-99' else 1)\n",
    "# raw_data_df_copy['days'] = raw_data_df_copy.apply(lambda x: calculateDays(x.entry_date,x.date_died) if x.death == 1 else -1, axis=1)"
   ]
  },
  {
   "cell_type": "code",
   "execution_count": 8,
   "metadata": {
    "scrolled": true
   },
   "outputs": [
    {
     "data": {
      "text/html": [
       "<div>\n",
       "<style scoped>\n",
       "    .dataframe tbody tr th:only-of-type {\n",
       "        vertical-align: middle;\n",
       "    }\n",
       "\n",
       "    .dataframe tbody tr th {\n",
       "        vertical-align: top;\n",
       "    }\n",
       "\n",
       "    .dataframe thead th {\n",
       "        text-align: right;\n",
       "    }\n",
       "</style>\n",
       "<table border=\"1\" class=\"dataframe\">\n",
       "  <thead>\n",
       "    <tr style=\"text-align: right;\">\n",
       "      <th></th>\n",
       "      <th>sex</th>\n",
       "      <th>intubed</th>\n",
       "      <th>pneumonia</th>\n",
       "      <th>age</th>\n",
       "      <th>pregnancy</th>\n",
       "      <th>diabetes</th>\n",
       "      <th>copd</th>\n",
       "      <th>asthma</th>\n",
       "      <th>inmsupr</th>\n",
       "      <th>hypertension</th>\n",
       "      <th>other_disease</th>\n",
       "      <th>cardiovascular</th>\n",
       "      <th>obesity</th>\n",
       "      <th>renal_chronic</th>\n",
       "      <th>tobacco</th>\n",
       "      <th>covid_res</th>\n",
       "      <th>icu</th>\n",
       "      <th>death</th>\n",
       "    </tr>\n",
       "  </thead>\n",
       "  <tbody>\n",
       "    <tr>\n",
       "      <th>0</th>\n",
       "      <td>1</td>\n",
       "      <td>97</td>\n",
       "      <td>2</td>\n",
       "      <td>27</td>\n",
       "      <td>97</td>\n",
       "      <td>2</td>\n",
       "      <td>2</td>\n",
       "      <td>2</td>\n",
       "      <td>2</td>\n",
       "      <td>2</td>\n",
       "      <td>2</td>\n",
       "      <td>2</td>\n",
       "      <td>2</td>\n",
       "      <td>2</td>\n",
       "      <td>2</td>\n",
       "      <td>1</td>\n",
       "      <td>97</td>\n",
       "      <td>0</td>\n",
       "    </tr>\n",
       "    <tr>\n",
       "      <th>1</th>\n",
       "      <td>1</td>\n",
       "      <td>97</td>\n",
       "      <td>2</td>\n",
       "      <td>24</td>\n",
       "      <td>97</td>\n",
       "      <td>2</td>\n",
       "      <td>2</td>\n",
       "      <td>2</td>\n",
       "      <td>2</td>\n",
       "      <td>2</td>\n",
       "      <td>2</td>\n",
       "      <td>2</td>\n",
       "      <td>2</td>\n",
       "      <td>2</td>\n",
       "      <td>2</td>\n",
       "      <td>1</td>\n",
       "      <td>97</td>\n",
       "      <td>0</td>\n",
       "    </tr>\n",
       "    <tr>\n",
       "      <th>2</th>\n",
       "      <td>0</td>\n",
       "      <td>2</td>\n",
       "      <td>2</td>\n",
       "      <td>54</td>\n",
       "      <td>2</td>\n",
       "      <td>2</td>\n",
       "      <td>2</td>\n",
       "      <td>2</td>\n",
       "      <td>2</td>\n",
       "      <td>2</td>\n",
       "      <td>2</td>\n",
       "      <td>2</td>\n",
       "      <td>1</td>\n",
       "      <td>2</td>\n",
       "      <td>2</td>\n",
       "      <td>1</td>\n",
       "      <td>2</td>\n",
       "      <td>0</td>\n",
       "    </tr>\n",
       "    <tr>\n",
       "      <th>3</th>\n",
       "      <td>1</td>\n",
       "      <td>2</td>\n",
       "      <td>1</td>\n",
       "      <td>30</td>\n",
       "      <td>97</td>\n",
       "      <td>2</td>\n",
       "      <td>2</td>\n",
       "      <td>2</td>\n",
       "      <td>2</td>\n",
       "      <td>2</td>\n",
       "      <td>2</td>\n",
       "      <td>2</td>\n",
       "      <td>2</td>\n",
       "      <td>2</td>\n",
       "      <td>2</td>\n",
       "      <td>1</td>\n",
       "      <td>2</td>\n",
       "      <td>0</td>\n",
       "    </tr>\n",
       "    <tr>\n",
       "      <th>4</th>\n",
       "      <td>0</td>\n",
       "      <td>2</td>\n",
       "      <td>2</td>\n",
       "      <td>60</td>\n",
       "      <td>2</td>\n",
       "      <td>1</td>\n",
       "      <td>2</td>\n",
       "      <td>2</td>\n",
       "      <td>2</td>\n",
       "      <td>1</td>\n",
       "      <td>2</td>\n",
       "      <td>1</td>\n",
       "      <td>2</td>\n",
       "      <td>2</td>\n",
       "      <td>2</td>\n",
       "      <td>1</td>\n",
       "      <td>2</td>\n",
       "      <td>1</td>\n",
       "    </tr>\n",
       "    <tr>\n",
       "      <th>...</th>\n",
       "      <td>...</td>\n",
       "      <td>...</td>\n",
       "      <td>...</td>\n",
       "      <td>...</td>\n",
       "      <td>...</td>\n",
       "      <td>...</td>\n",
       "      <td>...</td>\n",
       "      <td>...</td>\n",
       "      <td>...</td>\n",
       "      <td>...</td>\n",
       "      <td>...</td>\n",
       "      <td>...</td>\n",
       "      <td>...</td>\n",
       "      <td>...</td>\n",
       "      <td>...</td>\n",
       "      <td>...</td>\n",
       "      <td>...</td>\n",
       "      <td>...</td>\n",
       "    </tr>\n",
       "    <tr>\n",
       "      <th>566597</th>\n",
       "      <td>1</td>\n",
       "      <td>97</td>\n",
       "      <td>2</td>\n",
       "      <td>58</td>\n",
       "      <td>97</td>\n",
       "      <td>1</td>\n",
       "      <td>2</td>\n",
       "      <td>2</td>\n",
       "      <td>2</td>\n",
       "      <td>2</td>\n",
       "      <td>2</td>\n",
       "      <td>2</td>\n",
       "      <td>2</td>\n",
       "      <td>2</td>\n",
       "      <td>2</td>\n",
       "      <td>3</td>\n",
       "      <td>97</td>\n",
       "      <td>0</td>\n",
       "    </tr>\n",
       "    <tr>\n",
       "      <th>566598</th>\n",
       "      <td>0</td>\n",
       "      <td>97</td>\n",
       "      <td>2</td>\n",
       "      <td>48</td>\n",
       "      <td>2</td>\n",
       "      <td>2</td>\n",
       "      <td>2</td>\n",
       "      <td>2</td>\n",
       "      <td>2</td>\n",
       "      <td>2</td>\n",
       "      <td>2</td>\n",
       "      <td>2</td>\n",
       "      <td>2</td>\n",
       "      <td>2</td>\n",
       "      <td>2</td>\n",
       "      <td>3</td>\n",
       "      <td>97</td>\n",
       "      <td>0</td>\n",
       "    </tr>\n",
       "    <tr>\n",
       "      <th>566599</th>\n",
       "      <td>0</td>\n",
       "      <td>2</td>\n",
       "      <td>1</td>\n",
       "      <td>49</td>\n",
       "      <td>2</td>\n",
       "      <td>2</td>\n",
       "      <td>2</td>\n",
       "      <td>2</td>\n",
       "      <td>2</td>\n",
       "      <td>2</td>\n",
       "      <td>2</td>\n",
       "      <td>2</td>\n",
       "      <td>1</td>\n",
       "      <td>2</td>\n",
       "      <td>2</td>\n",
       "      <td>3</td>\n",
       "      <td>2</td>\n",
       "      <td>0</td>\n",
       "    </tr>\n",
       "    <tr>\n",
       "      <th>566600</th>\n",
       "      <td>0</td>\n",
       "      <td>97</td>\n",
       "      <td>1</td>\n",
       "      <td>43</td>\n",
       "      <td>2</td>\n",
       "      <td>2</td>\n",
       "      <td>2</td>\n",
       "      <td>2</td>\n",
       "      <td>2</td>\n",
       "      <td>2</td>\n",
       "      <td>2</td>\n",
       "      <td>2</td>\n",
       "      <td>2</td>\n",
       "      <td>2</td>\n",
       "      <td>2</td>\n",
       "      <td>3</td>\n",
       "      <td>97</td>\n",
       "      <td>0</td>\n",
       "    </tr>\n",
       "    <tr>\n",
       "      <th>566601</th>\n",
       "      <td>1</td>\n",
       "      <td>97</td>\n",
       "      <td>1</td>\n",
       "      <td>65</td>\n",
       "      <td>97</td>\n",
       "      <td>1</td>\n",
       "      <td>2</td>\n",
       "      <td>2</td>\n",
       "      <td>2</td>\n",
       "      <td>1</td>\n",
       "      <td>2</td>\n",
       "      <td>2</td>\n",
       "      <td>1</td>\n",
       "      <td>2</td>\n",
       "      <td>2</td>\n",
       "      <td>3</td>\n",
       "      <td>97</td>\n",
       "      <td>0</td>\n",
       "    </tr>\n",
       "  </tbody>\n",
       "</table>\n",
       "<p>563201 rows × 18 columns</p>\n",
       "</div>"
      ],
      "text/plain": [
       "        sex  intubed  pneumonia  age  pregnancy  diabetes  copd  asthma  \\\n",
       "0         1       97          2   27         97         2     2       2   \n",
       "1         1       97          2   24         97         2     2       2   \n",
       "2         0        2          2   54          2         2     2       2   \n",
       "3         1        2          1   30         97         2     2       2   \n",
       "4         0        2          2   60          2         1     2       2   \n",
       "...     ...      ...        ...  ...        ...       ...   ...     ...   \n",
       "566597    1       97          2   58         97         1     2       2   \n",
       "566598    0       97          2   48          2         2     2       2   \n",
       "566599    0        2          1   49          2         2     2       2   \n",
       "566600    0       97          1   43          2         2     2       2   \n",
       "566601    1       97          1   65         97         1     2       2   \n",
       "\n",
       "        inmsupr  hypertension  other_disease  cardiovascular  obesity  \\\n",
       "0             2             2              2               2        2   \n",
       "1             2             2              2               2        2   \n",
       "2             2             2              2               2        1   \n",
       "3             2             2              2               2        2   \n",
       "4             2             1              2               1        2   \n",
       "...         ...           ...            ...             ...      ...   \n",
       "566597        2             2              2               2        2   \n",
       "566598        2             2              2               2        2   \n",
       "566599        2             2              2               2        1   \n",
       "566600        2             2              2               2        2   \n",
       "566601        2             1              2               2        1   \n",
       "\n",
       "        renal_chronic  tobacco  covid_res  icu  death  \n",
       "0                   2        2          1   97      0  \n",
       "1                   2        2          1   97      0  \n",
       "2                   2        2          1    2      0  \n",
       "3                   2        2          1    2      0  \n",
       "4                   2        2          1    2      1  \n",
       "...               ...      ...        ...  ...    ...  \n",
       "566597              2        2          3   97      0  \n",
       "566598              2        2          3   97      0  \n",
       "566599              2        2          3    2      0  \n",
       "566600              2        2          3   97      0  \n",
       "566601              2        2          3   97      0  \n",
       "\n",
       "[563201 rows x 18 columns]"
      ]
     },
     "execution_count": 8,
     "metadata": {},
     "output_type": "execute_result"
    }
   ],
   "source": [
    "raw_data_df_copy = raw_data_df_copy.drop(columns=['patient_type','entry_date','date_symptoms','date_died','contact_other_covid'])\n",
    "raw_data_df_copy\n"
   ]
  },
  {
   "cell_type": "code",
   "execution_count": 9,
   "metadata": {},
   "outputs": [
    {
     "name": "stdout",
     "output_type": "stream",
     "text": [
      "<class 'pandas.core.frame.DataFrame'>\n",
      "Int64Index: 563201 entries, 0 to 566601\n",
      "Data columns (total 18 columns):\n",
      " #   Column          Non-Null Count   Dtype\n",
      "---  ------          --------------   -----\n",
      " 0   sex             563201 non-null  int64\n",
      " 1   intubed         563201 non-null  int64\n",
      " 2   pneumonia       563201 non-null  int64\n",
      " 3   age             563201 non-null  int64\n",
      " 4   pregnancy       563201 non-null  int64\n",
      " 5   diabetes        563201 non-null  int64\n",
      " 6   copd            563201 non-null  int64\n",
      " 7   asthma          563201 non-null  int64\n",
      " 8   inmsupr         563201 non-null  int64\n",
      " 9   hypertension    563201 non-null  int64\n",
      " 10  other_disease   563201 non-null  int64\n",
      " 11  cardiovascular  563201 non-null  int64\n",
      " 12  obesity         563201 non-null  int64\n",
      " 13  renal_chronic   563201 non-null  int64\n",
      " 14  tobacco         563201 non-null  int64\n",
      " 15  covid_res       563201 non-null  int64\n",
      " 16  icu             563201 non-null  int64\n",
      " 17  death           563201 non-null  int64\n",
      "dtypes: int64(18)\n",
      "memory usage: 81.6 MB\n"
     ]
    }
   ],
   "source": [
    "raw_data_df_copy.info()"
   ]
  },
  {
   "cell_type": "markdown",
   "metadata": {},
   "source": [
    "### Extract the outcome variable from the dataset, as specified in the configuration file"
   ]
  },
  {
   "cell_type": "code",
   "execution_count": 10,
   "metadata": {},
   "outputs": [],
   "source": [
    "outcome_col = config['Pre-processing']['outcome_column']\n",
    "y_raw_df = raw_data_df_copy[outcome_col]\n",
    "outcome_pos_value = parse_list(config['Pre-processing']['outcome_pos_value'])\n",
    "outcome_neg_value = parse_list(config['Pre-processing']['outcome_neg_value'])\n",
    "\n",
    "y_raw_df.replace(outcome_pos_value, 1, inplace=True)\n",
    "y_raw_df.replace(outcome_neg_value, 0, inplace=True)"
   ]
  },
  {
   "cell_type": "code",
   "execution_count": 11,
   "metadata": {},
   "outputs": [],
   "source": [
    "columns_to_drop_2 = [outcome_col]\n",
    "if filter_column != 'None':\n",
    "    if filter_column in raw_data_df_copy.columns:\n",
    "        columns_to_drop_2.append(filter_column)\n",
    "df_dropped_outcome = raw_data_df_copy.drop(columns_to_drop_2,axis = 1)\n",
    "# print(df_dropped_outcome.info(verbose=True))"
   ]
  },
  {
   "cell_type": "code",
   "execution_count": 12,
   "metadata": {},
   "outputs": [
    {
     "data": {
      "text/html": [
       "<div>\n",
       "<style scoped>\n",
       "    .dataframe tbody tr th:only-of-type {\n",
       "        vertical-align: middle;\n",
       "    }\n",
       "\n",
       "    .dataframe tbody tr th {\n",
       "        vertical-align: top;\n",
       "    }\n",
       "\n",
       "    .dataframe thead th {\n",
       "        text-align: right;\n",
       "    }\n",
       "</style>\n",
       "<table border=\"1\" class=\"dataframe\">\n",
       "  <thead>\n",
       "    <tr style=\"text-align: right;\">\n",
       "      <th></th>\n",
       "      <th>sex</th>\n",
       "      <th>intubed</th>\n",
       "      <th>pneumonia</th>\n",
       "      <th>age</th>\n",
       "      <th>pregnancy</th>\n",
       "      <th>diabetes</th>\n",
       "      <th>copd</th>\n",
       "      <th>asthma</th>\n",
       "      <th>inmsupr</th>\n",
       "      <th>hypertension</th>\n",
       "      <th>other_disease</th>\n",
       "      <th>cardiovascular</th>\n",
       "      <th>obesity</th>\n",
       "      <th>renal_chronic</th>\n",
       "      <th>tobacco</th>\n",
       "      <th>covid_res</th>\n",
       "      <th>icu</th>\n",
       "    </tr>\n",
       "  </thead>\n",
       "  <tbody>\n",
       "    <tr>\n",
       "      <th>0</th>\n",
       "      <td>1</td>\n",
       "      <td>97</td>\n",
       "      <td>2</td>\n",
       "      <td>27</td>\n",
       "      <td>97</td>\n",
       "      <td>2</td>\n",
       "      <td>2</td>\n",
       "      <td>2</td>\n",
       "      <td>2</td>\n",
       "      <td>2</td>\n",
       "      <td>2</td>\n",
       "      <td>2</td>\n",
       "      <td>2</td>\n",
       "      <td>2</td>\n",
       "      <td>2</td>\n",
       "      <td>1</td>\n",
       "      <td>97</td>\n",
       "    </tr>\n",
       "    <tr>\n",
       "      <th>1</th>\n",
       "      <td>1</td>\n",
       "      <td>97</td>\n",
       "      <td>2</td>\n",
       "      <td>24</td>\n",
       "      <td>97</td>\n",
       "      <td>2</td>\n",
       "      <td>2</td>\n",
       "      <td>2</td>\n",
       "      <td>2</td>\n",
       "      <td>2</td>\n",
       "      <td>2</td>\n",
       "      <td>2</td>\n",
       "      <td>2</td>\n",
       "      <td>2</td>\n",
       "      <td>2</td>\n",
       "      <td>1</td>\n",
       "      <td>97</td>\n",
       "    </tr>\n",
       "    <tr>\n",
       "      <th>2</th>\n",
       "      <td>0</td>\n",
       "      <td>2</td>\n",
       "      <td>2</td>\n",
       "      <td>54</td>\n",
       "      <td>2</td>\n",
       "      <td>2</td>\n",
       "      <td>2</td>\n",
       "      <td>2</td>\n",
       "      <td>2</td>\n",
       "      <td>2</td>\n",
       "      <td>2</td>\n",
       "      <td>2</td>\n",
       "      <td>1</td>\n",
       "      <td>2</td>\n",
       "      <td>2</td>\n",
       "      <td>1</td>\n",
       "      <td>2</td>\n",
       "    </tr>\n",
       "    <tr>\n",
       "      <th>3</th>\n",
       "      <td>1</td>\n",
       "      <td>2</td>\n",
       "      <td>1</td>\n",
       "      <td>30</td>\n",
       "      <td>97</td>\n",
       "      <td>2</td>\n",
       "      <td>2</td>\n",
       "      <td>2</td>\n",
       "      <td>2</td>\n",
       "      <td>2</td>\n",
       "      <td>2</td>\n",
       "      <td>2</td>\n",
       "      <td>2</td>\n",
       "      <td>2</td>\n",
       "      <td>2</td>\n",
       "      <td>1</td>\n",
       "      <td>2</td>\n",
       "    </tr>\n",
       "    <tr>\n",
       "      <th>4</th>\n",
       "      <td>0</td>\n",
       "      <td>2</td>\n",
       "      <td>2</td>\n",
       "      <td>60</td>\n",
       "      <td>2</td>\n",
       "      <td>1</td>\n",
       "      <td>2</td>\n",
       "      <td>2</td>\n",
       "      <td>2</td>\n",
       "      <td>1</td>\n",
       "      <td>2</td>\n",
       "      <td>1</td>\n",
       "      <td>2</td>\n",
       "      <td>2</td>\n",
       "      <td>2</td>\n",
       "      <td>1</td>\n",
       "      <td>2</td>\n",
       "    </tr>\n",
       "    <tr>\n",
       "      <th>...</th>\n",
       "      <td>...</td>\n",
       "      <td>...</td>\n",
       "      <td>...</td>\n",
       "      <td>...</td>\n",
       "      <td>...</td>\n",
       "      <td>...</td>\n",
       "      <td>...</td>\n",
       "      <td>...</td>\n",
       "      <td>...</td>\n",
       "      <td>...</td>\n",
       "      <td>...</td>\n",
       "      <td>...</td>\n",
       "      <td>...</td>\n",
       "      <td>...</td>\n",
       "      <td>...</td>\n",
       "      <td>...</td>\n",
       "      <td>...</td>\n",
       "    </tr>\n",
       "    <tr>\n",
       "      <th>566597</th>\n",
       "      <td>1</td>\n",
       "      <td>97</td>\n",
       "      <td>2</td>\n",
       "      <td>58</td>\n",
       "      <td>97</td>\n",
       "      <td>1</td>\n",
       "      <td>2</td>\n",
       "      <td>2</td>\n",
       "      <td>2</td>\n",
       "      <td>2</td>\n",
       "      <td>2</td>\n",
       "      <td>2</td>\n",
       "      <td>2</td>\n",
       "      <td>2</td>\n",
       "      <td>2</td>\n",
       "      <td>3</td>\n",
       "      <td>97</td>\n",
       "    </tr>\n",
       "    <tr>\n",
       "      <th>566598</th>\n",
       "      <td>0</td>\n",
       "      <td>97</td>\n",
       "      <td>2</td>\n",
       "      <td>48</td>\n",
       "      <td>2</td>\n",
       "      <td>2</td>\n",
       "      <td>2</td>\n",
       "      <td>2</td>\n",
       "      <td>2</td>\n",
       "      <td>2</td>\n",
       "      <td>2</td>\n",
       "      <td>2</td>\n",
       "      <td>2</td>\n",
       "      <td>2</td>\n",
       "      <td>2</td>\n",
       "      <td>3</td>\n",
       "      <td>97</td>\n",
       "    </tr>\n",
       "    <tr>\n",
       "      <th>566599</th>\n",
       "      <td>0</td>\n",
       "      <td>2</td>\n",
       "      <td>1</td>\n",
       "      <td>49</td>\n",
       "      <td>2</td>\n",
       "      <td>2</td>\n",
       "      <td>2</td>\n",
       "      <td>2</td>\n",
       "      <td>2</td>\n",
       "      <td>2</td>\n",
       "      <td>2</td>\n",
       "      <td>2</td>\n",
       "      <td>1</td>\n",
       "      <td>2</td>\n",
       "      <td>2</td>\n",
       "      <td>3</td>\n",
       "      <td>2</td>\n",
       "    </tr>\n",
       "    <tr>\n",
       "      <th>566600</th>\n",
       "      <td>0</td>\n",
       "      <td>97</td>\n",
       "      <td>1</td>\n",
       "      <td>43</td>\n",
       "      <td>2</td>\n",
       "      <td>2</td>\n",
       "      <td>2</td>\n",
       "      <td>2</td>\n",
       "      <td>2</td>\n",
       "      <td>2</td>\n",
       "      <td>2</td>\n",
       "      <td>2</td>\n",
       "      <td>2</td>\n",
       "      <td>2</td>\n",
       "      <td>2</td>\n",
       "      <td>3</td>\n",
       "      <td>97</td>\n",
       "    </tr>\n",
       "    <tr>\n",
       "      <th>566601</th>\n",
       "      <td>1</td>\n",
       "      <td>97</td>\n",
       "      <td>1</td>\n",
       "      <td>65</td>\n",
       "      <td>97</td>\n",
       "      <td>1</td>\n",
       "      <td>2</td>\n",
       "      <td>2</td>\n",
       "      <td>2</td>\n",
       "      <td>1</td>\n",
       "      <td>2</td>\n",
       "      <td>2</td>\n",
       "      <td>1</td>\n",
       "      <td>2</td>\n",
       "      <td>2</td>\n",
       "      <td>3</td>\n",
       "      <td>97</td>\n",
       "    </tr>\n",
       "  </tbody>\n",
       "</table>\n",
       "<p>563201 rows × 17 columns</p>\n",
       "</div>"
      ],
      "text/plain": [
       "        sex  intubed  pneumonia  age  pregnancy  diabetes  copd  asthma  \\\n",
       "0         1       97          2   27         97         2     2       2   \n",
       "1         1       97          2   24         97         2     2       2   \n",
       "2         0        2          2   54          2         2     2       2   \n",
       "3         1        2          1   30         97         2     2       2   \n",
       "4         0        2          2   60          2         1     2       2   \n",
       "...     ...      ...        ...  ...        ...       ...   ...     ...   \n",
       "566597    1       97          2   58         97         1     2       2   \n",
       "566598    0       97          2   48          2         2     2       2   \n",
       "566599    0        2          1   49          2         2     2       2   \n",
       "566600    0       97          1   43          2         2     2       2   \n",
       "566601    1       97          1   65         97         1     2       2   \n",
       "\n",
       "        inmsupr  hypertension  other_disease  cardiovascular  obesity  \\\n",
       "0             2             2              2               2        2   \n",
       "1             2             2              2               2        2   \n",
       "2             2             2              2               2        1   \n",
       "3             2             2              2               2        2   \n",
       "4             2             1              2               1        2   \n",
       "...         ...           ...            ...             ...      ...   \n",
       "566597        2             2              2               2        2   \n",
       "566598        2             2              2               2        2   \n",
       "566599        2             2              2               2        1   \n",
       "566600        2             2              2               2        2   \n",
       "566601        2             1              2               2        1   \n",
       "\n",
       "        renal_chronic  tobacco  covid_res  icu  \n",
       "0                   2        2          1   97  \n",
       "1                   2        2          1   97  \n",
       "2                   2        2          1    2  \n",
       "3                   2        2          1    2  \n",
       "4                   2        2          1    2  \n",
       "...               ...      ...        ...  ...  \n",
       "566597              2        2          3   97  \n",
       "566598              2        2          3   97  \n",
       "566599              2        2          3    2  \n",
       "566600              2        2          3   97  \n",
       "566601              2        2          3   97  \n",
       "\n",
       "[563201 rows x 17 columns]"
      ]
     },
     "execution_count": 12,
     "metadata": {},
     "output_type": "execute_result"
    }
   ],
   "source": [
    "df_dropped_outcome"
   ]
  },
  {
   "cell_type": "markdown",
   "metadata": {},
   "source": [
    "### Replace unknown values in the readmission data with NaNs"
   ]
  },
  {
   "cell_type": "code",
   "execution_count": 13,
   "metadata": {},
   "outputs": [],
   "source": [
    "# replaced unknown value defined in configuration file, eg. ‘unknown’, ‘not asked’, etc with NaN\n",
    "\n",
    "unknown_value_list = parse_list(config['Pre-processing']['unknown_value'])\n",
    "\n",
    "for u in unknown_value_list:\n",
    "    df_dropped_outcome.replace(to_replace=u, value=np.nan, inplace=True)\n",
    "\n",
    "\n",
    "    "
   ]
  },
  {
   "cell_type": "markdown",
   "metadata": {},
   "source": [
    "#### [Only for readmission data, not used for COVID-19 data] \n",
    "\n",
    "Map the values from the table defined in `[Pre-processing] value_replacing_dictionary` in the configuration file"
   ]
  },
  {
   "cell_type": "code",
   "execution_count": 14,
   "metadata": {},
   "outputs": [],
   "source": [
    "value_replaced_dict = parse_dict(config['Pre-processing']['value_replacing_dictionary'])\n",
    "\n",
    "for k, v in value_replaced_dict.items():\n",
    "    df_dropped_outcome.replace(to_replace=k, value=v, inplace=True)"
   ]
  },
  {
   "cell_type": "markdown",
   "metadata": {},
   "source": [
    "### Perform label encoding for categorical features/variables"
   ]
  },
  {
   "cell_type": "code",
   "execution_count": 15,
   "metadata": {},
   "outputs": [],
   "source": [
    "df_dropped_outcome_obj = df_dropped_outcome.select_dtypes([np.int64, np.float64]).copy()\n",
    "'''df_dropped_outcome_obj = df_dropped_outcome.select_dtypes(include=['int']).copy()\n",
    "dfTmp = df_dropped_outcome_obj\n",
    "mask = dfTmp.isnull()\n",
    "dfTmp = dfTmp.astype(str).apply(LabelEncoder().fit_transform)\n",
    "df_LE = dfTmp.where(~mask, df_dropped_outcome_obj)'''\n",
    "df_LE = df_dropped_outcome_obj"
   ]
  },
  {
   "cell_type": "code",
   "execution_count": 16,
   "metadata": {},
   "outputs": [],
   "source": [
    "df_dropped_obj = df_dropped_outcome.drop(df_LE.columns.tolist(), axis = 1)\n",
    "df_final = pd.concat([df_dropped_obj,df_LE], axis = 1)"
   ]
  },
  {
   "cell_type": "markdown",
   "metadata": {},
   "source": [
    "### Remove features which have more than 99% constant values"
   ]
  },
  {
   "cell_type": "code",
   "execution_count": 17,
   "metadata": {},
   "outputs": [],
   "source": [
    "df_features_constants = pd.DataFrame({'features':df_final.sum().index.tolist(),'values':df_final.sum().values.tolist()})\n",
    "df_dropped_features_constants = df_final[df_features_constants[df_features_constants['values'] > df_final.shape[0]*0.01].features.tolist()]\n",
    "X_df = df_final[df_dropped_features_constants.columns.tolist()]"
   ]
  },
  {
   "cell_type": "markdown",
   "metadata": {},
   "source": [
    "### Split pre-processed data into development and test sets in an 80:20 ratio\n",
    "\n",
    "As in our original COVID-19 study, the following code creates and processes a development set to train and evaluate candidate classifiers, and a first test set to evaluate the final classifier obtained from the whole development set. \n"
   ]
  },
  {
   "cell_type": "code",
   "execution_count": 18,
   "metadata": {},
   "outputs": [],
   "source": [
    "development_features, test_features, development_labels, test_labels = train_test_split(X_df,y_raw_df,test_size=0.2,stratify = y_raw_df, random_state=64)\n"
   ]
  },
  {
   "cell_type": "markdown",
   "metadata": {},
   "source": [
    "### Export development and test sets to csv files"
   ]
  },
  {
   "cell_type": "code",
   "execution_count": 19,
   "metadata": {},
   "outputs": [
    {
     "name": "stdout",
     "output_type": "stream",
     "text": [
      "Finished pre-processing!\n"
     ]
    }
   ],
   "source": [
    "development_features.to_csv(data_path+config_IO['df_development'],index=False)\n",
    "development_labels.to_csv(data_path+config_IO['y_development'],index=False)\n",
    "test_features.to_csv(data_path+config_IO['df_test'],index=False)\n",
    "test_labels.to_csv(data_path+config_IO['y_test'],index=False)\n",
    "print('Finished pre-processing!')"
   ]
  },
  {
   "cell_type": "markdown",
   "metadata": {},
   "source": [
    "<a id='missing_value_imputation'></a>\n",
    "# Missing value imputation process\n",
    "Import the development set along with its respective  outcome values, and carry out analyses to identify the optimal missing value level."
   ]
  },
  {
   "cell_type": "code",
   "execution_count": 20,
   "metadata": {},
   "outputs": [],
   "source": [
    "\n",
    "\n",
    "df_development = pd.read_csv(data_path + config_IO['df_development'])\n",
    "y_development = pd.read_csv(data_path + config_IO['y_development'])"
   ]
  },
  {
   "cell_type": "markdown",
   "metadata": {},
   "source": [
    "### Transform the continuous features first"
   ]
  },
  {
   "cell_type": "code",
   "execution_count": 21,
   "metadata": {},
   "outputs": [],
   "source": [
    "continous_feature = parse_list(config['Continuous_feature']['continuous_feature'])\n",
    "X_development_cont = df_development[continous_feature]"
   ]
  },
  {
   "cell_type": "markdown",
   "metadata": {},
   "source": [
    "### Scale all continuous features into z-scores (standard scaling)"
   ]
  },
  {
   "cell_type": "code",
   "execution_count": 22,
   "metadata": {},
   "outputs": [],
   "source": [
    "ss = StandardScaler()\n",
    "development_features_ss = pd.DataFrame(ss.fit_transform(X_development_cont), columns =  X_development_cont.columns.tolist())"
   ]
  },
  {
   "cell_type": "markdown",
   "metadata": {},
   "source": [
    "### Select categorical features"
   ]
  },
  {
   "cell_type": "code",
   "execution_count": 23,
   "metadata": {},
   "outputs": [],
   "source": [
    "columns = X_development_cont.columns.tolist()\n",
    "X_development_cate_miss = df_development.drop(columns,axis =1)\n",
    "categorical_feature = X_development_cate_miss.columns.tolist()"
   ]
  },
  {
   "cell_type": "markdown",
   "metadata": {},
   "source": [
    "### Concatenate transformed continuous and categorical features"
   ]
  },
  {
   "cell_type": "code",
   "execution_count": 24,
   "metadata": {},
   "outputs": [],
   "source": [
    "df_development_scaled = pd.concat([development_features_ss, X_development_cate_miss], axis=1)"
   ]
  },
  {
   "cell_type": "markdown",
   "metadata": {},
   "source": [
    "### Find highly correlated/collinear features (>0.90)"
   ]
  },
  {
   "cell_type": "code",
   "execution_count": 25,
   "metadata": {},
   "outputs": [],
   "source": [
    "# Create correlation matrix\n",
    "corr_matrix = df_development_scaled.corr().abs()\n",
    "# Select upper triangle of correlation matrix\n",
    "upper = corr_matrix.where(np.triu(np.ones(corr_matrix.shape), k=1).astype(np.bool))\n",
    "# Find index of feature columns with correlation greater than 0.90\n",
    "to_drop = [column for column in upper.columns if any(upper[column] > 0.9)]"
   ]
  },
  {
   "cell_type": "markdown",
   "metadata": {},
   "source": [
    "### Drop the highly correlated features from the dataframe, since they may be redundant"
   ]
  },
  {
   "cell_type": "code",
   "execution_count": 26,
   "metadata": {},
   "outputs": [
    {
     "name": "stdout",
     "output_type": "stream",
     "text": [
      "Column(s) being dropped due to their high correlation(s) with other features/columns:\n",
      "['pregnancy', 'asthma', 'cardiovascular', 'renal_chronic', 'icu']\n"
     ]
    }
   ],
   "source": [
    "df_development_scaled_dropped =  df_development_scaled.drop(to_drop , axis=1 )\n",
    "if len(to_drop) == 0:\n",
    "    print('None of the columns is dropped due to highly correlated features/columns.')\n",
    "else:\n",
    "    print('Column(s) being dropped due to their high correlation(s) with other features/columns:')\n",
    "    print(to_drop)"
   ]
  },
  {
   "cell_type": "code",
   "execution_count": 27,
   "metadata": {},
   "outputs": [],
   "source": [
    "# Construct an array of the labels/outcomes of the development set\n",
    "y_development_np = y_development.values"
   ]
  },
  {
   "cell_type": "markdown",
   "metadata": {},
   "source": [
    "#### Function for getting prediction scores from different classifiers"
   ]
  },
  {
   "cell_type": "code",
   "execution_count": 28,
   "metadata": {},
   "outputs": [],
   "source": [
    "def proba_score(est_model, feat):\n",
    "    if hasattr(est_model, \"predict_proba\"):\n",
    "        y_1 = est_model.predict_proba(feat)[:,1]\n",
    "        y_0 = est_model.predict_proba(feat)[:,0]\n",
    "    else:  # use decision function\n",
    "        prob_pos = est_model.decision_function(feat)\n",
    "        y_1 = prob_pos\n",
    "        y_0 = -1*prob_pos\n",
    "        \n",
    "    return y_1, y_0"
   ]
  },
  {
   "cell_type": "markdown",
   "metadata": {},
   "source": [
    "### Repeat missing value imputation 100 times and assess average performance at different missing value levels\n",
    "In the following block of code, the development dataset is randomly split into a 75% subset for training classifiers after imputation and a 25% subset for performance evaluation. Multiple classifiers are trained after dropping features missing in more than a certain percentage (from 0% to 60% in steps of 5%). Performance of the resultant classifiers is measured in terms of the AUC score.\n",
    "\n",
    "This process is repeated 100 times (see for loop below), and the results are stored in csv files for further analysis and visualization\n"
   ]
  },
  {
   "cell_type": "code",
   "execution_count": 29,
   "metadata": {},
   "outputs": [
    {
     "name": "stdout",
     "output_type": "stream",
     "text": [
      "===> 0\n",
      "===> 1\n",
      "===> 2\n",
      "===> 3\n",
      "===> 4\n",
      "===> 5\n",
      "===> 6\n",
      "===> 7\n",
      "===> 8\n",
      "===> 9\n",
      "===> 10\n",
      "Running 10th imputation measurement...\n",
      "===> 11\n",
      "===> 12\n",
      "===> 13\n",
      "===> 14\n",
      "===> 15\n",
      "===> 16\n",
      "===> 17\n",
      "===> 18\n",
      "===> 19\n",
      "===> 20\n",
      "Running 20th imputation measurement...\n",
      "===> 21\n",
      "===> 22\n",
      "===> 23\n",
      "===> 24\n",
      "===> 25\n",
      "===> 26\n",
      "===> 27\n",
      "===> 28\n",
      "===> 29\n",
      "===> 30\n",
      "Running 30th imputation measurement...\n",
      "===> 31\n",
      "===> 32\n",
      "===> 33\n",
      "===> 34\n",
      "===> 35\n",
      "===> 36\n",
      "===> 37\n",
      "===> 38\n",
      "===> 39\n",
      "===> 40\n",
      "Running 40th imputation measurement...\n",
      "===> 41\n",
      "===> 42\n",
      "===> 43\n",
      "===> 44\n",
      "===> 45\n",
      "===> 46\n",
      "===> 47\n",
      "===> 48\n",
      "===> 49\n",
      "===> 50\n",
      "Running 50th imputation measurement...\n",
      "Done!\n"
     ]
    }
   ],
   "source": [
    "\n",
    "# Creating Scores Container\n",
    "\n",
    "performance_dict_final = {}\n",
    "dict_clf = {'rf': RandomForestClassifier(),\n",
    "            'lr': LogisticRegression(), \n",
    "            'svm': LinearSVC(), \n",
    "           }\n",
    "\n",
    "list_measure = ['AUC']\n",
    "\n",
    "for c, c_class in dict_clf.items():\n",
    "    performance_dict_final[c] = {}\n",
    "    for m in list_measure:\n",
    "        performance_dict_final[c][m] = []\n",
    "\n",
    "missing_percentages = range(0,61,5)\n",
    "\n",
    "\n",
    "for i in range(0, 51):\n",
    "    print(\"===>\", i)\n",
    "    train_features, holdout_features, train_labels, holdout_labels = train_test_split(df_development_scaled_dropped,\n",
    "                                                                              y_development_np,test_size=0.25,\n",
    "                                                                              stratify = y_development_np)   \n",
    "    if (i % 10 == 0) and (i != 0):\n",
    "        print('Running {}th imputation measurement...'.format(i))\n",
    "    \n",
    "    performance_dict = {}\n",
    "    for c, c_class in dict_clf.items():\n",
    "        performance_dict[c] = {}\n",
    "        for m in list_measure:\n",
    "            performance_dict[c][m] = []\n",
    "        \n",
    "    for j in missing_percentages:# (0,61,5)\n",
    "        \n",
    "        # drop features (columns) with missing values in 0,5,10,15,20,25....,60% of the patients\n",
    "        train_features_cutoff = train_features[train_features.columns[(train_features.isna().mean().round(4) * 100 <=j)].tolist()]\n",
    "        holdout_features_cutoff = holdout_features[train_features.columns[(train_features.isna().mean().round(4) * 100 <=j)].tolist()]\n",
    "\n",
    "        # select the continuous features of the training and holdout sets\n",
    "        train_features_cont = train_features_cutoff[list(set(train_features_cutoff.columns.tolist()) & set(continous_feature))]\n",
    "        holdout_features_cont = holdout_features_cutoff[list(set(holdout_features_cutoff.columns.tolist()) & set(continous_feature))]\n",
    "\n",
    "        # select the categorical features of the training and holdout sets\n",
    "        train_features_cate = train_features_cutoff[list(set(train_features_cutoff.columns.tolist()) & set(categorical_feature))]\n",
    "        holdout_features_cate = holdout_features_cutoff[list(set(holdout_features_cutoff.columns.tolist()) & set(categorical_feature))]\n",
    "    \n",
    "        # Missing values of the continuous features are imputed with the mean of their respective available values\n",
    "        my_imputer = SimpleImputer(strategy = 'mean')\n",
    "        imputed_train_features_cont = pd.DataFrame(my_imputer.fit_transform(train_features_cont),columns =train_features_cont.columns.tolist())\n",
    "        imputed_holdout_features_cont = pd.DataFrame(my_imputer.transform(holdout_features_cont),columns =holdout_features_cont.columns.tolist())\n",
    "\n",
    "        # Missing values of the categorical features are imputed with the mode of their respective available values\n",
    "        my_imputer_mf = SimpleImputer(strategy = \"most_frequent\")\n",
    "        imputed_X_train_cate = pd.DataFrame(my_imputer_mf.fit_transform(train_features_cate),columns = train_features_cate.columns.tolist())\n",
    "        imputed_X_holdout_cate = pd.DataFrame(my_imputer_mf.transform(holdout_features_cate),columns = holdout_features_cate.columns.tolist())\n",
    "\n",
    "        # concatenate all continuous and categorical features after imputation\n",
    "        train_features_final = pd.concat([imputed_train_features_cont,imputed_X_train_cate], axis=1)\n",
    "        holdout_features_final = pd.concat([imputed_holdout_features_cont,imputed_X_holdout_cate], axis=1)\n",
    "\n",
    "        \n",
    "        # Training and evaluating classifiers at different missing value levels\n",
    "        for clf_key, clf_var in dict_clf.items():\n",
    "            clf_var.fit(train_features_final, train_labels)\n",
    "            y_pred = clf_var.predict(holdout_features_final)\n",
    "\n",
    "            y_score, y_score_0 = proba_score(clf_var, holdout_features_final)\n",
    "\n",
    "            fpr, tpr, th = metrics.roc_curve(holdout_labels, y_score, pos_label = 1)\n",
    "            auc_roc = metrics.auc(fpr, tpr)  \n",
    "\n",
    "\n",
    "            score_list_of_clf = [auc_roc]\n",
    "\n",
    "            for m_idx, m in enumerate(list_measure):\n",
    "                performance_dict[clf_key][m].append(score_list_of_clf[m_idx])\n",
    "\n",
    "        \n",
    "    \n",
    "    for c, c_class in dict_clf.items():\n",
    "        for m in list_measure:\n",
    "            performance_dict_final[c][m].append(performance_dict[c][m])\n",
    "\n",
    "print('Done!')"
   ]
  },
  {
   "cell_type": "markdown",
   "metadata": {},
   "source": [
    "### Save the results of missing value imputation"
   ]
  },
  {
   "cell_type": "code",
   "execution_count": 30,
   "metadata": {
    "scrolled": true
   },
   "outputs": [
    {
     "name": "stdout",
     "output_type": "stream",
     "text": [
      "Finished saving results of imputation!\n"
     ]
    }
   ],
   "source": [
    "missing_percentage_columns = ['{}%'.format(int(p)) for p in missing_percentages]\n",
    "\n",
    "for c, c_class in dict_clf.items():\n",
    "    for m in list_measure:\n",
    "        df_temp = pd.DataFrame(performance_dict_final[c][m], columns=missing_percentage_columns)\n",
    "        df_temp.to_csv(result_path+'df_{}_{}.csv'.format(m, c), index=False)\n",
    "\n",
    "print('Finished saving results of imputation!')"
   ]
  },
  {
   "cell_type": "markdown",
   "metadata": {},
   "source": [
    "<a id='figure2a'></a>\n",
    "### Generate a figure summarizing the results of the missing value imputation process\n",
    "\n",
    "This code generates the missing value imputation results such as those shown in Figure 2A in the paper."
   ]
  },
  {
   "cell_type": "code",
   "execution_count": 31,
   "metadata": {},
   "outputs": [],
   "source": [
    "df_AUC_rf = pd.read_csv(result_path+'df_AUC_rf.csv')\n",
    "df_AUC_lr = pd.read_csv(result_path+'df_AUC_lr.csv')\n",
    "df_AUC_svm = pd.read_csv(result_path+'df_AUC_svm.csv')"
   ]
  },
  {
   "cell_type": "code",
   "execution_count": 32,
   "metadata": {},
   "outputs": [
    {
     "data": {
      "image/png": "[encoded data removed]",
      "text/plain": [
       "<Figure size 432x288 with 1 Axes>"
      ]
     },
     "metadata": {
      "needs_background": "light"
     },
     "output_type": "display_data"
    }
   ],
   "source": [
    "plt.figure(figsize=(6,4))\n",
    "import numpy as np\n",
    "import matplotlib.pyplot as plt\n",
    "\n",
    "#plt.subplot(325)\n",
    "x = missing_percentages\n",
    "\n",
    "RF_auc = df_AUC_rf.mean()\n",
    "RF_auc_etd_er = df_AUC_rf.sem(axis = 0)\n",
    "LR_auc = df_AUC_lr.mean()\n",
    "LR_auc_etd_er = df_AUC_lr.sem(axis = 0)\n",
    "SVM_auc = df_AUC_svm.mean()\n",
    "SVM_auc_etd_er = df_AUC_svm.sem(axis = 0)\n",
    "\n",
    "plt.plot(x, LR_auc,'-',color ='brown',label='LR',linewidth=2,markersize = 10)\n",
    "plt.errorbar(x, LR_auc, yerr=LR_auc_etd_er, fmt='',linestyle='None', ecolor='brown',linewidth=2, capthick=2, uplims=True, lolims=True)\n",
    "\n",
    "plt.plot(x, SVM_auc,'-',color ='olive',label='SVM',linewidth=2,markersize = 10)\n",
    "plt.errorbar(x, SVM_auc, yerr=SVM_auc_etd_er, fmt='',linestyle='None', ecolor='olive', linewidth=2,capthick=2, uplims=True, lolims=True)\n",
    "\n",
    "plt.plot(x, RF_auc,'-',color = 'darkorange',label='RF',linewidth=2,markersize = 10)\n",
    "plt.errorbar(x, RF_auc, yerr=RF_auc_etd_er, fmt='',linestyle='None', ecolor='darkorange',linewidth=2, capthick=2,uplims=True, lolims=True)\n",
    "\n",
    "plt.xlabel('Missing value level (%)', fontsize=18)\n",
    "plt.yticks( fontsize=12)\n",
    "plt.ylabel('AUC', fontsize=18)\n",
    "plt.ylim([0.50,1.00])\n",
    "plt.legend(('LR', 'SVM','RF'), loc='lower right', fontsize=16)\n",
    "\n",
    "plt.tight_layout()"
   ]
  },
  {
   "cell_type": "markdown",
   "metadata": {},
   "source": [
    "From the resultant Figure 2A in our article, we found that the 20% missing value level yielded the most accurate prediction, and hence, we dropped any features with >20% missing values."
   ]
  },
  {
   "cell_type": "markdown",
   "metadata": {},
   "source": [
    "Based on the results in the above plot, the user can set the value of the `missing_value_level` code variable to that at which the performance is maximized. Based on the results in the above plot for the readmission dataset, which doesn’t show much variation, we are setting this value to 20, as we did in the original COVID-19 article. This variable, and its value, will be used in further analyses."
   ]
  },
  {
   "cell_type": "code",
   "execution_count": 33,
   "metadata": {},
   "outputs": [],
   "source": [
    "missing_value_level = 20"
   ]
  },
  {
   "cell_type": "markdown",
   "metadata": {},
   "source": [
    "# Feature selection using recursive feature elimination (RFE)\n",
    "\n",
    "\n",
    "RFE is a feature selection method, which automatically selects a subset of features with potentially better performance than all the features. The following code implements the various parts of the process used in our study. "
   ]
  },
  {
   "cell_type": "code",
   "execution_count": 34,
   "metadata": {},
   "outputs": [],
   "source": [
    "# Again import the development data set, include the features with acceptable missing value levels, \n",
    "# and prepare it for RFE experiments using the same pre-processing steps implemented above.\n",
    "config = configparser.ConfigParser()\n",
    "config.read(config_fn)\n",
    "config_IO = config['FileIO']\n",
    "\n",
    "df_development = pd.read_csv(data_path+config_IO['df_development'])\n",
    "y_development = pd.read_csv(data_path+config_IO['y_development'])"
   ]
  },
  {
   "cell_type": "code",
   "execution_count": 35,
   "metadata": {},
   "outputs": [
    {
     "name": "stdout",
     "output_type": "stream",
     "text": [
      "The dimension of data after filtering: (450560, 17)\n"
     ]
    }
   ],
   "source": [
    "df_development_dropped_missed  = df_development[df_development.columns[(df_development.isna().mean().round(4) * 100 <= missing_value_level)].tolist()]\n",
    "print('The dimension of data after filtering:', df_development_dropped_missed.shape)"
   ]
  },
  {
   "cell_type": "code",
   "execution_count": 36,
   "metadata": {},
   "outputs": [],
   "source": [
    "# Impute features in the development set that satisfied the best missing value level determined in the above code block\n",
    "\n",
    "X_development_cont = df_development_dropped_missed[list(set(continous_feature)&set(df_development_dropped_missed.columns.tolist()))]\n",
    "\n",
    "# Impute continuous features with the mean of their respective available values using the SimpleImputer library\n",
    "my_imputer = SimpleImputer(strategy = 'mean')\n",
    "imputed_X_development_cont = pd.DataFrame(my_imputer.fit_transform(X_development_cont), columns = X_development_cont.columns.tolist())\n",
    "\n",
    "# Normalize the continuous features into z-scores using the StandardScaler  library\n",
    "ss = StandardScaler()\n",
    "development_features_ss = pd.DataFrame(ss.fit_transform(imputed_X_development_cont), columns =  imputed_X_development_cont.columns.tolist())\n",
    "\n",
    "# Drop continuous variables from the dataframe to select categorical variables\n",
    "columns = X_development_cont.columns.tolist()\n",
    "X_cate_miss = df_development_dropped_missed.drop(columns,axis =1)\n",
    "\n",
    "# Impute missing values in categorical features using the mode of their respective available values\n",
    "my_imputer_mf = SimpleImputer(strategy = \"most_frequent\")\n",
    "imputed_X_development_cate = pd.DataFrame(my_imputer_mf.fit_transform(X_cate_miss),columns = X_cate_miss.columns.tolist())\n",
    "\n",
    "# Concatenate the resultant continuous and categorical features after imputation\n",
    "df_development_imputed = pd.concat([development_features_ss,imputed_X_development_cate], axis=1)\n",
    "\n",
    "# Finding highly correlated features (>0.90) among the revised set of features\n",
    "# Create correlation matrix\n",
    "corr_matrix = df_development_imputed.corr().abs()\n",
    "# Select upper triangle of correlation matrix\n",
    "upper = corr_matrix.where(np.triu(np.ones(corr_matrix.shape), k=1).astype(np.bool))\n",
    "# Find index of feature columns with correlation greater than 0.90\n",
    "to_drop = [column for column in upper.columns if any(upper[column] > 0.9)]\n",
    "\n",
    "# Drop highly correlated features from datafram\n",
    "df_development_imputed_dropped_high_corr =  df_development_imputed.drop(to_drop , axis=1 )\n"
   ]
  },
  {
   "cell_type": "markdown",
   "metadata": {},
   "source": [
    "### Repeat the RFE-based feature selection process 100 times\n",
    "In the following block of code, the development dataset is split into a 75% subset for selecting features and training candidate classifiers, and a 25% subset for evaluating these classifiers. This process is repeated 100 times (see the second “for” loop below), and the results stored into csv files for further analysis and visualization. Performance is measured in terms of the AUC score, and all the relevant statistics are stored at the end of the code block. We start with basic settings for the RFE analysis."
   ]
  },
  {
   "cell_type": "code",
   "execution_count": 37,
   "metadata": {},
   "outputs": [
    {
     "name": "stdout",
     "output_type": "stream",
     "text": [
      "Total number of features =  12\n"
     ]
    }
   ],
   "source": [
    "total_num_feat = df_development_imputed_dropped_high_corr.shape[1]\n",
    "print('Total number of features = ', total_num_feat)    "
   ]
  },
  {
   "cell_type": "markdown",
   "metadata": {},
   "source": [
    "The `step_size` variable below can be set to determine the list of the number of features that should be tested in this analysis. For readmission data, we set the value of this variable to 5."
   ]
  },
  {
   "cell_type": "code",
   "execution_count": 38,
   "metadata": {},
   "outputs": [
    {
     "name": "stdout",
     "output_type": "stream",
     "text": [
      "The list of number of subset features we would like to test:\n",
      "[ 1  6 11 12]\n"
     ]
    }
   ],
   "source": [
    "step_size = 5\n",
    "no_features_to_pick_list = np.array(range(1,total_num_feat+1, step_size))\n",
    "if not total_num_feat in no_features_to_pick_list:\n",
    "    no_features_to_pick_list = np.append(no_features_to_pick_list, [total_num_feat])\n",
    "    \n",
    "print('The list of number of subset features we would like to test:')\n",
    "print(no_features_to_pick_list)"
   ]
  },
  {
   "cell_type": "markdown",
   "metadata": {},
   "source": [
    "Note that this code, and the following, code can be modified to pre-specify the number of features to be tested (instead of step size), as we did in our original COVID-19 study."
   ]
  },
  {
   "cell_type": "markdown",
   "metadata": {},
   "source": [
    "The following code block implements the RFE-based feature selection process, combined with the four classification algorithms used in our original study, and stores all the results for further analysis and visualization."
   ]
  },
  {
   "cell_type": "code",
   "execution_count": 40,
   "metadata": {},
   "outputs": [],
   "source": [
    "feature_df = df_development_imputed_dropped_high_corr\n",
    "\n",
    "feature_np_array = feature_df.values\n",
    "set_of_seed = range(11)\n",
    "outcome_np_array = y_development_np\n",
    "\n",
    "\n",
    "total_feature = feature_df.shape[1]\n",
    "feature_name_list = list(feature_df.columns.values)\n",
    "estimator_dict = {\n",
    "            'LR': LogisticRegression(),\n",
    "            'SVM': LinearSVC(),\n",
    "            'RF': RandomForestClassifier()\n",
    "}\n",
    "\n",
    "\n",
    "# Container of the RFE results\n",
    "all_result_df_list = []\n",
    "\n",
    "result_df = pd.DataFrame(columns=['seed', 'classifier', 'num_features_picked', 'AUC'] + feature_name_list)\n",
    "result_col = result_df.columns\n",
    "\n",
    "result_container = dict()\n",
    "\n",
    "\n",
    "# Iterating over classification algorithms\n",
    "for est_name, est in estimator_dict.items():\n",
    "    auc_mean_list = []\n",
    "    auc_se_list = []\n",
    "    # This for loop generates the training-holdout splits of the development set to evaluate the above algorithms \n",
    "    # with different feature subsets\n",
    "    for random_seed in set_of_seed:\n",
    "        if (random_seed % 20 == 0) and (random_seed != 0):\n",
    "            print('{}th round of {} training is running...'.format(random_seed, est_name))\n",
    "        train_features, holdout_features, train_labels, holdout_labels = train_test_split(\n",
    "            feature_df, outcome_np_array, test_size=0.25, stratify = outcome_np_array)\n",
    "        est_var = est\n",
    "        selector = RFE(estimator=est_var, step=1, n_features_to_select=1)\n",
    "        selector = selector.fit(train_features, train_labels)\n",
    "        rank_f = selector.ranking_\n",
    "\n",
    "        for n_f in no_features_to_pick_list:\n",
    "\n",
    "            selected_feat = rank_f <= n_f\n",
    "            est_var = est\n",
    "            est_var.fit(train_features.iloc[:,selected_feat], train_labels)\n",
    "            if hasattr(est_var, \"predict_proba\"):\n",
    "                prob_pos = est_var.predict_proba(holdout_features.iloc[:,selected_feat])[:,1]\n",
    "            else:  # use decision function\n",
    "                prob_pos = est_var.decision_function(holdout_features.iloc[:,selected_feat])\n",
    "            auc = roc_auc_score(holdout_labels, prob_pos)\n",
    "            dict_to_append = {'seed': random_seed, 'classifier': est_name, 'num_features_picked': n_f, 'AUC': auc}\n",
    "\n",
    "            for idx, f_name in enumerate(feature_name_list):\n",
    "                dict_to_append[f_name] = selected_feat[idx]\n",
    "            result_df = result_df.append(dict_to_append, ignore_index=True)\n",
    "\n",
    "    \n",
    "all_result_df_list.append(result_df)\n",
    "\n"
   ]
  },
  {
   "cell_type": "code",
   "execution_count": 41,
   "metadata": {},
   "outputs": [
    {
     "name": "stdout",
     "output_type": "stream",
     "text": [
      "Feature selection results saved.\n"
     ]
    }
   ],
   "source": [
    "all_result_df = pd.concat(all_result_df_list)\n",
    "# save results in a csv file\n",
    "all_result_df.to_csv(result_path+'RFE_result.csv')\n",
    "print('Feature selection results saved.')"
   ]
  },
  {
   "cell_type": "markdown",
   "metadata": {},
   "source": [
    "### Generate a figure summarizing the AUC scores of the four classification algorithms with subsets of features selected by RFE\n",
    "This code generates the feature selection results such as those shown in Figure 2B in the paper.  Specifically, this figure plots how the performance of the tested classification algorithms varies with the different number of features tested in this feature selection process."
   ]
  },
  {
   "cell_type": "code",
   "execution_count": 42,
   "metadata": {},
   "outputs": [
    {
     "name": "stdout",
     "output_type": "stream",
     "text": [
      "Done!\n"
     ]
    },
    {
     "data": {
      "image/png": "[encoded data removed]",
      "text/plain": [
       "<Figure size 432x216 with 1 Axes>"
      ]
     },
     "metadata": {
      "needs_background": "light"
     },
     "output_type": "display_data"
    }
   ],
   "source": [
    "fig = plt.figure(figsize=(6,3))\n",
    "ax = fig.add_subplot(111)\n",
    "bar_color_list = ['b', 'olive', 'darkorange']\n",
    "for est_idx , (est_name, est) in enumerate(estimator_dict.items()):\n",
    "    auc_mean_list = []\n",
    "    auc_se_list = []\n",
    "    for n_f in no_features_to_pick_list:\n",
    "        auc_array = all_result_df.loc[(all_result_df['classifier'] == est_name) & (all_result_df['num_features_picked'] == n_f), 'AUC'].values\n",
    "        auc_mean = np.mean(auc_array)\n",
    "        auc_se = np.std(auc_array)/np.sqrt(len(auc_array))\n",
    "\n",
    "        auc_mean_list.append(auc_mean)\n",
    "        auc_se_list.append(auc_se)\n",
    "    ax.errorbar(x=no_features_to_pick_list, y=auc_mean_list, yerr=auc_se_list, label=est_name, \n",
    "                color=bar_color_list[est_idx], uplims=True, lolims=True)\n",
    "ax.legend()\n",
    "ax.set_ylabel('AUC')\n",
    "ax.set_xlabel('# features selected using RFE')\n",
    "ax.set_ylim([None,1.00])\n",
    "#fig.savefig(plot_path+\"Figure_2B.tiff\", dpi=600, format=\"tiff\", pil_kwargs={\"compression\": \"tiff_lzw\"})\n",
    "\n",
    "\n",
    "print('Done!')"
   ]
  },
  {
   "cell_type": "markdown",
   "metadata": {},
   "source": [
    "Based on the result in the above plot, they can set the value of `top_N` to the number of features they would like to include (N) in the final classifier. Based on the results in the above plot for the readmission dataset, we are setting this value to 6."
   ]
  },
  {
   "cell_type": "code",
   "execution_count": 43,
   "metadata": {},
   "outputs": [],
   "source": [
    "top_N = 6"
   ]
  },
  {
   "cell_type": "markdown",
   "metadata": {},
   "source": [
    "\n",
    "### Visualizing the top N features selected by RFE in 100 runs\n",
    "This code block analyzes the results of the RFE process above to identify the top_N features for the four classification algorithms, and visualize them as a bar chart like in Figure 4A in our original COVID-19 article."
   ]
  },
  {
   "cell_type": "code",
   "execution_count": 44,
   "metadata": {},
   "outputs": [
    {
     "data": {
      "image/png": "[encoded data removed]",
      "text/plain": [
       "<Figure size 1080x1080 with 3 Axes>"
      ]
     },
     "metadata": {
      "needs_background": "light"
     },
     "output_type": "display_data"
    }
   ],
   "source": [
    "estimator_dict = {\n",
    "            'LR': LogisticRegression,\n",
    "            'SVM': LinearSVC,\n",
    "            'RF': RandomForestClassifier\n",
    "}\n",
    "cp = sns.color_palette(n_colors=len(estimator_dict))\n",
    "all_result_df = pd.read_csv(result_path+'RFE_result.csv')\n",
    "feature_name_list = list(df_development_imputed_dropped_high_corr.columns.values)\n",
    "estimator_full_name_dict = {\n",
    "            'LR': 'Logistic Regression',\n",
    "            'SVM': 'Support Vector Machine',\n",
    "            'RF': 'Random Forest'}\n",
    "\n",
    "set_of_seed = [range(51)]\n",
    "\n",
    "# Code for bar plot\n",
    "top_n_list = [top_N]\n",
    "bar_color_list = ['b', 'olive', 'darkorange']\n",
    "for top_n in top_n_list:\n",
    "    top_n_df = all_result_df[all_result_df['num_features_picked'] == top_n]\n",
    "    freq_df_list = []\n",
    "    freq_df = pd.DataFrame(columns=['set_to_run', 'classifier', 'freq', 'feature'])\n",
    "    feature_frequency_dict_by_clf = dict()\n",
    "    fig2, axs = plt.subplots(3, figsize=(15,15))\n",
    "    top_n_df_by_seed_set = top_n_df\n",
    "    for est_idx, (est_name, est) in enumerate(estimator_dict.items()):\n",
    "        top_n_df_by_clf = top_n_df_by_seed_set[top_n_df_by_seed_set['classifier']==est_name]\n",
    "\n",
    "        for idx, f_name in enumerate(feature_name_list):\n",
    "            freq = sum(top_n_df_by_clf[f_name].values)\n",
    "            dict_to_append = {'classifier': est_name,\n",
    "                              'freq': freq, 'feature': f_name}\n",
    "            freq_df = freq_df.append(dict_to_append, ignore_index=True)\n",
    "\n",
    "\n",
    "        freq_df_est = freq_df[freq_df['classifier']==est_name]\n",
    "        freq_df_est = freq_df_est.sort_values(by=['freq'], ascending=False).iloc[:top_n]\n",
    "        axs[est_idx] = sns.barplot(ax=axs[est_idx], x=\"freq\", y=\"feature\", data=freq_df_est, orient='h', color=cp[est_idx])\n",
    "\n",
    "        axs[est_idx].set_yticks(range(top_n))\n",
    "        axs[est_idx].set_title(estimator_full_name_dict[est_name], fontweight='bold',fontsize = 20)\n",
    "        axs[est_idx].set_xlim([0, set_of_seed[-1][-1]+1])\n",
    "        axs[est_idx].set_xlabel('')\n",
    "        new_yticks_label = []\n",
    "        axs[est_idx].set_ylabel('')\n",
    "        for idx, yticks in enumerate(axs[est_idx].get_yticklabels()):\n",
    "            new_yticks_label.append(\"{} ({})\".format(yticks.get_text(), freq_df_est['freq'].iloc[idx]))\n",
    "        axs[est_idx].set_yticklabels(new_yticks_label, fontsize=18)\n"
   ]
  },
  {
   "cell_type": "markdown",
   "metadata": {},
   "source": [
    "# Final Selected Features"
   ]
  },
  {
   "cell_type": "markdown",
   "metadata": {},
   "source": [
    "1. Age\n",
    "2. Sex\n",
    "3. pneumonia\n",
    "\n",
    "While other three features will be dropped and converted into new features for the Regression part."
   ]
  },
  {
   "cell_type": "code",
   "execution_count": null,
   "metadata": {},
   "outputs": [],
   "source": []
  }
 ],
 "metadata": {
  "kernelspec": {
   "display_name": "Python 3",
   "language": "python",
   "name": "python3"
  },
  "language_info": {
   "codemirror_mode": {
    "name": "ipython",
    "version": 3
   },
   "file_extension": ".py",
   "mimetype": "text/x-python",
   "name": "python",
   "nbconvert_exporter": "python",
   "pygments_lexer": "ipython3",
   "version": "3.8.5"
  }
 },
 "nbformat": 4,
 "nbformat_minor": 4
}
